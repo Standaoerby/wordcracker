{
 "cells": [
  {
   "cell_type": "markdown",
   "id": "75b8221b",
   "metadata": {},
   "source": [
    "# 📘 Импорт и очистка текстов\n",
    "- Сравнение текста до и после\n",
    "- Подсчёт количества слов\n",
    "- Редкие слова\n",
    "- Средняя длина слов"
   ]
  },
  {
   "cell_type": "code",
   "execution_count": null,
   "id": "42369d5a",
   "metadata": {},
   "outputs": [],
   "source": [
    "from pathlib import Path\n",
    "from collections import Counter\n",
    "from scripts.text_cleaner import clean_text, extract_epub_text\n",
    "\n",
    "RAW = Path(\"../raw_books/wodehouse/70222.epub\")\n",
    "CLEAN = Path(\"../data/wodehouse/70222.txt\")\n",
    "\n",
    "raw = extract_epub_text(RAW)\n",
    "cleaned = clean_text(raw)\n",
    "\n",
    "print(\"\\nRAW:\")\n",
    "print(raw[:500])\n",
    "print(\"\\nCLEANED:\")\n",
    "print(cleaned[:500])"
   ]
  },
  {
   "cell_type": "code",
   "execution_count": null,
   "id": "5cbb06c5",
   "metadata": {},
   "outputs": [],
   "source": [
    "def count_words(text): return len(text.split())\n",
    "print(f\"📝 Слов до очистки: {count_words(raw)}\")\n",
    "print(f\"✅ Слов после очистки: {count_words(cleaned)}\")"
   ]
  },
  {
   "cell_type": "code",
   "execution_count": null,
   "id": "7ad197a9",
   "metadata": {},
   "outputs": [],
   "source": [
    "words = cleaned.lower().split()\n",
    "freqs = Counter(words)\n",
    "rare = [w for w, c in freqs.items() if c == 1]\n",
    "print(f\"🔎 Редких слов: {len(rare)}\")\n",
    "print(\"Примеры:\", rare[:10])\n",
    "avg_len = sum(len(w) for w in words) / len(words)\n",
    "print(f\"📏 Средняя длина слова: {avg_len:.2f}\")"
   ]
  }
 ],
 "metadata": {
  "kernelspec": {
   "display_name": "Python 3 (ipykernel)",
   "language": "python",
   "name": "python3"
  },
  "language_info": {
   "codemirror_mode": {
    "name": "ipython",
    "version": 3
   },
   "file_extension": ".py",
   "mimetype": "text/x-python",
   "name": "python",
   "nbconvert_exporter": "python",
   "pygments_lexer": "ipython3",
   "version": "3.10.13"
  }
 },
 "nbformat": 4,
 "nbformat_minor": 5
}
