{
  "cells": [
    {
      "cell_type": "markdown",
      "metadata": {},
      "source": [
        "# \ud83d\udd0d \u041f\u043e\u0438\u0441\u043a \u043f\u043e Gutenberg Corpus\n",
        "\u042d\u0442\u043e\u0442 \u043d\u043e\u0443\u0442\u0431\u0443\u043a \u043f\u043e\u0437\u0432\u043e\u043b\u044f\u0435\u0442 \u0438\u0441\u043a\u0430\u0442\u044c \u0444\u0440\u0430\u0433\u043c\u0435\u043d\u0442\u044b \u0442\u0435\u043a\u0441\u0442\u0430 \u043f\u043e \u0441\u043c\u044b\u0441\u043b\u0443 \u0447\u0435\u0440\u0435\u0437 ChromaDB \u0438 SentenceTransformers."
      ]
    },
    {
      "cell_type": "code",
      "execution_count": null,
      "metadata": {},
      "outputs": [],
      "source": [
        "from chromadb.utils.embedding_functions import SentenceTransformerEmbeddingFunction\n",
        "import chromadb\n",
        "\n",
        "DB_PATH = \"/workspace/chroma_db\"\n",
        "client = chromadb.PersistentClient(path=DB_PATH)\n",
        "collection = client.get_collection(\"gutenberg-index\",\n",
        "    embedding_function=SentenceTransformerEmbeddingFunction(\"all-MiniLM-L6-v2\")\n",
        ")"
      ]
    },
    {
      "cell_type": "code",
      "execution_count": null,
      "metadata": {},
      "outputs": [],
      "source": [
        "query = \"\u0434\u0432\u043e\u0440\u0435\u0446\u043a\u0438\u0439, \u043a\u043e\u0442\u043e\u0440\u044b\u0439 \u0443\u043c\u0435\u0435\u0442 \u0432\u044b\u0445\u043e\u0434\u0438\u0442\u044c \u0438\u0437 \u043d\u0435\u043b\u043e\u0432\u043a\u0438\u0445 \u0441\u0438\u0442\u0443\u0430\u0446\u0438\u0439\"\n",
        "results = collection.query(query_texts=[query], n_results=5)\n",
        "\n",
        "for i in range(len(results['documents'][0])):\n",
        "    print(f\"\ud83d\udd39 Author: {results['metadatas'][0][i]['author']}\")\n",
        "    print(f\"\ud83d\udcd8 Title: {results['metadatas'][0][i]['title']}\")\n",
        "    print(f\"\ud83e\udde9 Chunk: {results['metadatas'][0][i]['chunk']}\")\n",
        "    print(f\"---\\n{results['documents'][0][i]}\\n---\\n\")"
      ]
    }
  ],
  "metadata": {
    "kernelspec": {
      "display_name": "Python 3",
      "language": "python",
      "name": "python3"
    },
    "language_info": {
      "name": "python"
    }
  },
  "nbformat": 4,
  "nbformat_minor": 5
}